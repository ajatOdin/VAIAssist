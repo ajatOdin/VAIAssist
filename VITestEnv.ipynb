{
 "cells": [
  {
   "cell_type": "code",
   "execution_count": null,
   "metadata": {},
   "outputs": [],
   "source": [
    "'''\n",
    "Conceptualize: \n",
    "\n",
    "1:\n",
    "\n",
    "Reinforcement Learning Algorithm\n",
    "1. How to parse the showing of an action\n",
    "1a. How to request that action\n",
    "1b. Storage of memory of request and action\n",
    "\n",
    "2. Take command from input\n",
    "2a. Select via memory (nn) which action is most correct for the memory\n",
    "2b. Conduct action\n",
    "\n",
    "3. Parse feedback\n",
    "3a. Update memory appropriately\n",
    "3b. Action Loop\n",
    "\n",
    "Assign actions to libraries\n",
    "\n",
    "'''"
   ]
  },
  {
   "cell_type": "code",
   "execution_count": null,
   "metadata": {},
   "outputs": [],
   "source": [
    "'''\n",
    "Actions to Parse\n",
    "1. Go to Web site\n",
    "2. Use server or web site to search information\n",
    "3. Use a specific web site ( Google Maps for directions)\n",
    "4. Find Tutorial (video, audio, visual)\n",
    "5. Gather Data\n",
    "6. Make a prediction\n",
    "7. Query Virtual Intelligence Standard Interface (VISI)\n",
    "\n",
    "#Action\n",
    "#Response Queries\n",
    "#Mitigation of Response Queries\n",
    "#Success Conditions\n",
    "#Failure Conditions\n",
    "\n",
    "\n",
    "\n",
    "\n",
    "\n",
    "\n",
    "\n",
    "'''"
   ]
  },
  {
   "cell_type": "code",
   "execution_count": 2,
   "metadata": {},
   "outputs": [],
   "source": [
    "#Web Library\n",
    "#Go to Web site\n",
    "\n",
    "#Action - Open up a particular web address\n",
    "#Requirements - Only particular websites that are shown as difficult to use\n",
    "#Response Queries - Browser? Particular part of website\n",
    "#Mitigation of Response Queries - Preferences, inferred and specific\n",
    "#Success Conditions - Browser and site opened successfully, minimizes need for user interaction\n",
    "#Failure Conditions - Browser or site not opened successfully, or more work created for user\n",
    "\n",
    "import webbrowser\n",
    "\n",
    "def openURL(address):\n",
    "    url = address\n",
    "    webbrowser.open(url)\n",
    "    \n",
    "openURL('www.reddit.com')"
   ]
  },
  {
   "cell_type": "code",
   "execution_count": null,
   "metadata": {},
   "outputs": [],
   "source": [
    "#Web Library\n",
    "#Use server or web site to search information\n",
    "\n",
    "#Action - A particular website is queried using its main search function for a particular term\n",
    "#Requirements - Specific Site entries\n",
    "#Response Queries - null response queries\n",
    "#Mitigation of Response Queries - inferred preferences\n",
    "#Success Conditions - sought answer is correctly returned to user\n",
    "#Failure Conditions - user is given wrong answer or wrong query is run"
   ]
  },
  {
   "cell_type": "code",
   "execution_count": null,
   "metadata": {},
   "outputs": [],
   "source": [
    "#Web Library\n",
    "#Use a specific web site ( Google Maps for directions)\n",
    "\n",
    "#Action\n",
    "#Requirements\n",
    "#Response Queries\n",
    "#Mitigation of Response Queries\n",
    "#Success Conditions\n",
    "#Failure Conditions"
   ]
  },
  {
   "cell_type": "code",
   "execution_count": null,
   "metadata": {},
   "outputs": [],
   "source": [
    "#Web Library\n",
    "#Find Tutorial (video, audio, visual)\n",
    "\n",
    "#Action\n",
    "#Requirements\n",
    "#Response Queries\n",
    "#Mitigation of Response Queries\n",
    "#Success Conditions\n",
    "#Failure Conditions"
   ]
  },
  {
   "cell_type": "code",
   "execution_count": null,
   "metadata": {},
   "outputs": [],
   "source": [
    "#Data Library\n",
    "#Gather Data\n",
    "\n",
    "#Action\n",
    "#Requirements\n",
    "#Response Queries\n",
    "#Mitigation of Response Queries\n",
    "#Success Conditions\n",
    "#Failure Conditions"
   ]
  },
  {
   "cell_type": "code",
   "execution_count": null,
   "metadata": {},
   "outputs": [],
   "source": [
    "#Data Library\n",
    "#Make a prediction\n",
    "\n",
    "#Action\n",
    "#Requirements\n",
    "#Response Queries\n",
    "#Mitigation of Response Queries\n",
    "#Success Conditions\n",
    "#Failure Conditions"
   ]
  },
  {
   "cell_type": "code",
   "execution_count": null,
   "metadata": {},
   "outputs": [],
   "source": [
    "#Standard Library\n",
    "#Query Virtual Intelligence Standard Interface (VISI)\n",
    "\n",
    "#Action - Run a VISI Query to an external source in order to return a VISI Response\n",
    "#Requirements - External Specific VI Query Import\n",
    "#Response Queries - External Specific\n",
    "#Mitigation of Response Queries - Inferred\n",
    "#Success Conditions - External used Successfully\n",
    "#Failure Conditions - External Not recognized or not queried"
   ]
  },
  {
   "cell_type": "code",
   "execution_count": null,
   "metadata": {},
   "outputs": [],
   "source": [
    "#Standard Library\n",
    "#IAN Service (Import as Needed)\n",
    "\n",
    "#Action - Query External, import required library for VI\n",
    "#Requirements - External, web connection\n",
    "#Response Queries - Transient Import or Permanent\n",
    "#Mitigation of Response Queries - Preference\n",
    "#Success Conditions - Import Made, external use now available\n",
    "#Failure Conditions - Import not made"
   ]
  }
 ],
 "metadata": {
  "kernelspec": {
   "display_name": "Python 3",
   "language": "python",
   "name": "python3"
  },
  "language_info": {
   "codemirror_mode": {
    "name": "ipython",
    "version": 3
   },
   "file_extension": ".py",
   "mimetype": "text/x-python",
   "name": "python",
   "nbconvert_exporter": "python",
   "pygments_lexer": "ipython3",
   "version": "3.6.4"
  }
 },
 "nbformat": 4,
 "nbformat_minor": 2
}
